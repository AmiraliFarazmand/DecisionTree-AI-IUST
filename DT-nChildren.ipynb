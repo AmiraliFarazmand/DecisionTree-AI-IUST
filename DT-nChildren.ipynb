{
 "cells": [
  {
   "cell_type": "code",
   "execution_count": 1,
   "metadata": {},
   "outputs": [],
   "source": [
    "import numpy as np\n",
    "import pandas as pd\n",
    "from sklearn.metrics import accuracy_score\n",
    "from sklearn.model_selection import train_test_split \n",
    "# from sklearn.tree import DecisionTreeClassifier "
   ]
  },
  {
   "cell_type": "code",
   "execution_count": 2,
   "metadata": {},
   "outputs": [],
   "source": [
    "class Node():\n",
    "    def __init__(self, feature_index=None, threshold=None, info_gain=None, value=None , children = []):\n",
    "        # for decision node\n",
    "        self.feature_index = feature_index\n",
    "        self.threshold = threshold\n",
    "        self.children = children\n",
    "        self.info_gain = info_gain\n",
    "        \n",
    "        # for leaf node\n",
    "        self.value = value\n",
    "    def add_child(self, child):\n",
    "        self.children.append(child)\n",
    "        \n",
    "    def __str__(self):\n",
    "        if self.value is  not None:\n",
    "            res = \"F_\"+self.feature_index+\", treshold: \"+self.threshold+\", IG:\"+self.info_gain+\", Children:\\n\\t\"+self.left+\"\\n\\t\"+self.right\n",
    "            return res\n",
    "        res = self.value \n",
    "        return res"
   ]
  },
  {
   "cell_type": "code",
   "execution_count": 3,
   "metadata": {},
   "outputs": [],
   "source": [
    "class DecisionTreeClassifier():\n",
    "    def __init__(self, min_samples_split=2, max_depth=2 , n_children = 3):\n",
    "        \n",
    "        # initialize the root of the tree \n",
    "        self.root = None\n",
    "        \n",
    "        # stopping conditions\n",
    "        self.min_samples_split = min_samples_split\n",
    "        self.max_depth = max_depth\n",
    "        \n",
    "        self.n_children = n_children\n",
    "        \n",
    "    def build_tree(self, dataset, curr_depth=0):\n",
    "        ''' recursive function to build the tree ''' \n",
    "        \n",
    "        X, Y = dataset[:,:-1], dataset[:,-1]\n",
    "        num_samples, num_features = np.shape(X)\n",
    "        \n",
    "        # split until stopping conditions are met\n",
    "        if num_samples>=self.min_samples_split and curr_depth<=self.max_depth:\n",
    "            # find the best split\n",
    "            best_split = self.get_best_split(dataset, num_samples, num_features)\n",
    "            # check if information gain is positive\n",
    "            if best_split[\"info_gain\"]>0:\n",
    "                # recur left\n",
    "                left_subtree = self.build_tree(best_split[\"dataset_left\"], curr_depth+1)\n",
    "                # recur right\n",
    "                right_subtree = self.build_tree(best_split[\"dataset_right\"], curr_depth+1)\n",
    "                # return decision node\n",
    "                return Node(best_split[\"feature_index\"], best_split[\"threshold\"], \n",
    "                            left_subtree, right_subtree, best_split[\"info_gain\"])\n",
    "        \n",
    "        # compute leaf node\n",
    "        leaf_value = self.calculate_leaf_value(Y)\n",
    "        # return leaf node\n",
    "        return Node(value=leaf_value)\n",
    "    \n",
    "    def get_best_split(self, dataset, num_samples, num_features):\n",
    "        ''' function to find the best split '''\n",
    "        \n",
    "        # dictionary to store the best split\n",
    "        best_split = {}\n",
    "        max_info_gain = -float(\"inf\")\n",
    "        \n",
    "        # loop over all the features\n",
    "        for feature_index in range(num_features):\n",
    "            feature_values = dataset[:, feature_index]\n",
    "            possible_thresholds = np.unique(feature_values)\n",
    "            \n",
    "            step = (np.max(possible_thresholds)  - np.min(possible_thresholds)) // self.n_children\n",
    "            min_val = np.min(possible_thresholds)\n",
    "            thresholds = [min_val + step * i for i in range(1, self.n_children)]\n",
    "            \n",
    "            # loop over all the feature values present in the data\n",
    "            # for threshold in possible_thresholds:\n",
    "                # get current split\n",
    "            dataset_left, dataset_right = self.split(dataset, feature_index, thresholds)\n",
    "            children_datasets = self.split(dataset , feature_index , thresholds)\n",
    "            # check if childs are not null\n",
    "            # if len(dataset_left)>0 and len(dataset_right)>0:\n",
    "            y= dataset[:, -1]\n",
    "            # left_y, right_y  =  dataset_left[:, -1], dataset_right[:, -1]\n",
    "            children_y = [children_datasets[i][:, -1] for i in range(len(children_datasets))] \n",
    "            # compute information gain\n",
    "            # curr_info_gain = self.information_gain(y, left_y, right_y)\n",
    "            curr_info_gain = self.information_gain(y,children=  children_y)\n",
    "            # update the best split if needed\n",
    "            if curr_info_gain>max_info_gain:\n",
    "                best_split[\"feature_index\"] = feature_index\n",
    "                best_split[\"threshold\"] = thresholds\n",
    "                best_split[\"dataset_left\"] = dataset_left\n",
    "                best_split[\"dataset_right\"] = dataset_right\n",
    "                best_split[\"info_gain\"] = curr_info_gain\n",
    "                max_info_gain = curr_info_gain\n",
    "                        \n",
    "        # return best split\n",
    "        return best_split\n",
    "    \n",
    "    def split(self, dataset, feature_index, thresholds):\n",
    "        ''' function to split the data '''\n",
    "        # dataset_left = np.array([row for row in dataset if row[feature_index]<=threshold])\n",
    "        # dataset_right = np.array([row for row in dataset if row[feature_index]>threshold])\n",
    "        children_datasets = [np.array([row for row in dataset if row[feature_index]<=thresholds[0]])]\n",
    "        for i in range(1 , len(thresholds)):\n",
    "            temp_child = np.array([row for row in dataset if row[feature_index]<=thresholds[i] and row[feature_index]>thresholds[i-1]])\n",
    "            children_datasets.append(temp_child)\n",
    "        children_datasets.append(np.array([row for row in dataset if row[feature_index]>thresholds[-1]]))\n",
    "        # return dataset_left, dataset_right\n",
    "        return children_datasets\n",
    "    \n",
    "    def information_gain(self, parent, children):\n",
    "        ''' function to compute information gain\n",
    "            IG = E(parent) - (weight_l*E(l_child) + weight_r*E(r_child))\n",
    "        '''\n",
    "        # weight_l = len(l_child) / len(parent)\n",
    "        # weight_r = len(r_child) / len(parent)\n",
    "        children_weights = [len(child)/len(parent) for child in children]\n",
    "        childrens_entropy = [self.entropy(child) for child in children]\n",
    "        gain = self.entropy(parent) \n",
    "                                    #    *(weight_l *self.entropy(l_child) + weight_r*self.entropy(r_child))\n",
    "        for i in len(children):\n",
    "            gain -= children_weights[i] * childrens_entropy[i]\n",
    "        return gain\n",
    "    \n",
    "    def entropy(self, y):\n",
    "        ''' function to compute entropy \n",
    "            E(X) = -p(x)log2(p(x))\n",
    "        '''\n",
    "        \n",
    "        class_labels = np.unique(y)\n",
    "        entropy = 0\n",
    "        for cls in class_labels:\n",
    "            p_cls = len(y[y == cls]) / len(y)\n",
    "            entropy += -p_cls * np.log2(p_cls)\n",
    "        return entropy\n",
    "    \n",
    "    \n",
    "    def calculate_leaf_value(self, Y):\n",
    "        ''' function to compute leaf node '''\n",
    "        \n",
    "        Y = list(Y)\n",
    "        return max(Y, key=Y.count)\n",
    "    \n",
    "    def print_tree(self, tree=None, indent=\" \"):\n",
    "        ''' function to print the tree '''\n",
    "        \n",
    "        if not tree:\n",
    "            tree = self.root\n",
    "\n",
    "        if tree.value is not None:\n",
    "            print(tree.value)\n",
    "\n",
    "        else:\n",
    "            print(\"F_\"+str(tree.feature_index), \"<=\", tree.threshold, \"?\", tree.info_gain)\n",
    "            print(\"%sleft:\" % (indent), end=\"\")\n",
    "            self.print_tree(tree.left, indent + indent)\n",
    "            print(\"%sright:\" % (indent), end=\"\")\n",
    "            self.print_tree(tree.right, indent + indent)\n",
    "            # print(str(tree))\n",
    "            \n",
    "    def fit(self, X, Y):\n",
    "        ''' function to train the tree '''\n",
    "        \n",
    "        dataset = np.concatenate((X, Y), axis=1)\n",
    "        self.root = self.build_tree(dataset)\n",
    "    \n",
    "    def predict(self, X):\n",
    "        ''' function to predict new dataset '''\n",
    "        \n",
    "        preditions = [self.make_prediction(x, self.root) for x in X]\n",
    "        return preditions\n",
    "    \n",
    "    def make_prediction(self, x, tree):\n",
    "        ''' function to predict a single data point '''\n",
    "        \n",
    "        if tree.value!=None: return tree.value\n",
    "        feature_val = x[tree.feature_index]\n",
    "        if feature_val<=tree.threshold:\n",
    "            return self.make_prediction(x, tree.left)\n",
    "        else:\n",
    "            return self.make_prediction(x, tree.right)"
   ]
  },
  {
   "cell_type": "code",
   "execution_count": 4,
   "metadata": {
    "scrolled": false
   },
   "outputs": [],
   "source": [
    "col_names = [\"Pregnancies\",\"Glucose\",\"BloodPressure\",\"SkinThickness\",\"Insulin\",\"BMI\",\"Pedigree\",\"Age\", \"outcome\"]\n",
    "data = pd.read_csv(\"diabetes.csv\", header=0, names=col_names)\n",
    "# data = pd.read_csv(\"Resturant.csv\", header=0)\n",
    "# data.head(10)"
   ]
  },
  {
   "cell_type": "code",
   "execution_count": 5,
   "metadata": {},
   "outputs": [],
   "source": [
    "X = data.iloc[:, :-1].values\n",
    "Y = data.iloc[:, -1].values.reshape(-1,1)\n",
    "X_train, X_test, Y_train, Y_test = train_test_split(X, Y, test_size=0.8)\n",
    "# X_train, X_test, Y_train, Y_test = train_test_split(X, Y, test_size=1)"
   ]
  },
  {
   "cell_type": "code",
   "execution_count": 6,
   "metadata": {},
   "outputs": [
    {
     "ename": "ValueError",
     "evalue": "too many values to unpack (expected 2)",
     "output_type": "error",
     "traceback": [
      "\u001b[1;31m---------------------------------------------------------------------------\u001b[0m",
      "\u001b[1;31mValueError\u001b[0m                                Traceback (most recent call last)",
      "\u001b[1;32md:\\code ex\\AI\\Presentation\\DT-nChildren.ipynb Cell 6\u001b[0m in \u001b[0;36m<cell line: 2>\u001b[1;34m()\u001b[0m\n\u001b[0;32m      <a href='vscode-notebook-cell:/d%3A/code%20ex/AI/Presentation/DT-nChildren.ipynb#W5sZmlsZQ%3D%3D?line=0'>1</a>\u001b[0m classifier \u001b[39m=\u001b[39m DecisionTreeClassifier(min_samples_split\u001b[39m=\u001b[39m\u001b[39m2\u001b[39m, max_depth\u001b[39m=\u001b[39m\u001b[39m10\u001b[39m)\n\u001b[1;32m----> <a href='vscode-notebook-cell:/d%3A/code%20ex/AI/Presentation/DT-nChildren.ipynb#W5sZmlsZQ%3D%3D?line=1'>2</a>\u001b[0m classifier\u001b[39m.\u001b[39;49mfit(X_train,Y_train)\n\u001b[0;32m      <a href='vscode-notebook-cell:/d%3A/code%20ex/AI/Presentation/DT-nChildren.ipynb#W5sZmlsZQ%3D%3D?line=2'>3</a>\u001b[0m classifier\u001b[39m.\u001b[39mprint_tree()\n",
      "\u001b[1;32md:\\code ex\\AI\\Presentation\\DT-nChildren.ipynb Cell 6\u001b[0m in \u001b[0;36mDecisionTreeClassifier.fit\u001b[1;34m(self, X, Y)\u001b[0m\n\u001b[0;32m    <a href='vscode-notebook-cell:/d%3A/code%20ex/AI/Presentation/DT-nChildren.ipynb#W5sZmlsZQ%3D%3D?line=141'>142</a>\u001b[0m \u001b[39m''' function to train the tree '''\u001b[39;00m\n\u001b[0;32m    <a href='vscode-notebook-cell:/d%3A/code%20ex/AI/Presentation/DT-nChildren.ipynb#W5sZmlsZQ%3D%3D?line=143'>144</a>\u001b[0m dataset \u001b[39m=\u001b[39m np\u001b[39m.\u001b[39mconcatenate((X, Y), axis\u001b[39m=\u001b[39m\u001b[39m1\u001b[39m)\n\u001b[1;32m--> <a href='vscode-notebook-cell:/d%3A/code%20ex/AI/Presentation/DT-nChildren.ipynb#W5sZmlsZQ%3D%3D?line=144'>145</a>\u001b[0m \u001b[39mself\u001b[39m\u001b[39m.\u001b[39mroot \u001b[39m=\u001b[39m \u001b[39mself\u001b[39;49m\u001b[39m.\u001b[39;49mbuild_tree(dataset)\n",
      "\u001b[1;32md:\\code ex\\AI\\Presentation\\DT-nChildren.ipynb Cell 6\u001b[0m in \u001b[0;36mDecisionTreeClassifier.build_tree\u001b[1;34m(self, dataset, curr_depth)\u001b[0m\n\u001b[0;32m     <a href='vscode-notebook-cell:/d%3A/code%20ex/AI/Presentation/DT-nChildren.ipynb#W5sZmlsZQ%3D%3D?line=18'>19</a>\u001b[0m \u001b[39m# split until stopping conditions are met\u001b[39;00m\n\u001b[0;32m     <a href='vscode-notebook-cell:/d%3A/code%20ex/AI/Presentation/DT-nChildren.ipynb#W5sZmlsZQ%3D%3D?line=19'>20</a>\u001b[0m \u001b[39mif\u001b[39;00m num_samples\u001b[39m>\u001b[39m\u001b[39m=\u001b[39m\u001b[39mself\u001b[39m\u001b[39m.\u001b[39mmin_samples_split \u001b[39mand\u001b[39;00m curr_depth\u001b[39m<\u001b[39m\u001b[39m=\u001b[39m\u001b[39mself\u001b[39m\u001b[39m.\u001b[39mmax_depth:\n\u001b[0;32m     <a href='vscode-notebook-cell:/d%3A/code%20ex/AI/Presentation/DT-nChildren.ipynb#W5sZmlsZQ%3D%3D?line=20'>21</a>\u001b[0m     \u001b[39m# find the best split\u001b[39;00m\n\u001b[1;32m---> <a href='vscode-notebook-cell:/d%3A/code%20ex/AI/Presentation/DT-nChildren.ipynb#W5sZmlsZQ%3D%3D?line=21'>22</a>\u001b[0m     best_split \u001b[39m=\u001b[39m \u001b[39mself\u001b[39;49m\u001b[39m.\u001b[39;49mget_best_split(dataset, num_samples, num_features)\n\u001b[0;32m     <a href='vscode-notebook-cell:/d%3A/code%20ex/AI/Presentation/DT-nChildren.ipynb#W5sZmlsZQ%3D%3D?line=22'>23</a>\u001b[0m     \u001b[39m# check if information gain is positive\u001b[39;00m\n\u001b[0;32m     <a href='vscode-notebook-cell:/d%3A/code%20ex/AI/Presentation/DT-nChildren.ipynb#W5sZmlsZQ%3D%3D?line=23'>24</a>\u001b[0m     \u001b[39mif\u001b[39;00m best_split[\u001b[39m\"\u001b[39m\u001b[39minfo_gain\u001b[39m\u001b[39m\"\u001b[39m]\u001b[39m>\u001b[39m\u001b[39m0\u001b[39m:\n\u001b[0;32m     <a href='vscode-notebook-cell:/d%3A/code%20ex/AI/Presentation/DT-nChildren.ipynb#W5sZmlsZQ%3D%3D?line=24'>25</a>\u001b[0m         \u001b[39m# recur left\u001b[39;00m\n",
      "\u001b[1;32md:\\code ex\\AI\\Presentation\\DT-nChildren.ipynb Cell 6\u001b[0m in \u001b[0;36mDecisionTreeClassifier.get_best_split\u001b[1;34m(self, dataset, num_samples, num_features)\u001b[0m\n\u001b[0;32m     <a href='vscode-notebook-cell:/d%3A/code%20ex/AI/Presentation/DT-nChildren.ipynb#W5sZmlsZQ%3D%3D?line=51'>52</a>\u001b[0m thresholds \u001b[39m=\u001b[39m [min_val \u001b[39m+\u001b[39m step \u001b[39m*\u001b[39m i \u001b[39mfor\u001b[39;00m i \u001b[39min\u001b[39;00m \u001b[39mrange\u001b[39m(\u001b[39m1\u001b[39m, \u001b[39mself\u001b[39m\u001b[39m.\u001b[39mn_children)]\n\u001b[0;32m     <a href='vscode-notebook-cell:/d%3A/code%20ex/AI/Presentation/DT-nChildren.ipynb#W5sZmlsZQ%3D%3D?line=53'>54</a>\u001b[0m \u001b[39m# loop over all the feature values present in the data\u001b[39;00m\n\u001b[0;32m     <a href='vscode-notebook-cell:/d%3A/code%20ex/AI/Presentation/DT-nChildren.ipynb#W5sZmlsZQ%3D%3D?line=54'>55</a>\u001b[0m \u001b[39m# for threshold in possible_thresholds:\u001b[39;00m\n\u001b[0;32m     <a href='vscode-notebook-cell:/d%3A/code%20ex/AI/Presentation/DT-nChildren.ipynb#W5sZmlsZQ%3D%3D?line=55'>56</a>\u001b[0m     \u001b[39m# get current split\u001b[39;00m\n\u001b[1;32m---> <a href='vscode-notebook-cell:/d%3A/code%20ex/AI/Presentation/DT-nChildren.ipynb#W5sZmlsZQ%3D%3D?line=56'>57</a>\u001b[0m dataset_left, dataset_right \u001b[39m=\u001b[39m \u001b[39mself\u001b[39m\u001b[39m.\u001b[39msplit(dataset, feature_index, thresholds)\n\u001b[0;32m     <a href='vscode-notebook-cell:/d%3A/code%20ex/AI/Presentation/DT-nChildren.ipynb#W5sZmlsZQ%3D%3D?line=57'>58</a>\u001b[0m children_datasets \u001b[39m=\u001b[39m \u001b[39mself\u001b[39m\u001b[39m.\u001b[39msplit(dataset , feature_index , thresholds)\n\u001b[0;32m     <a href='vscode-notebook-cell:/d%3A/code%20ex/AI/Presentation/DT-nChildren.ipynb#W5sZmlsZQ%3D%3D?line=58'>59</a>\u001b[0m \u001b[39m# check if childs are not null\u001b[39;00m\n\u001b[0;32m     <a href='vscode-notebook-cell:/d%3A/code%20ex/AI/Presentation/DT-nChildren.ipynb#W5sZmlsZQ%3D%3D?line=59'>60</a>\u001b[0m \u001b[39m# if len(dataset_left)>0 and len(dataset_right)>0:\u001b[39;00m\n",
      "\u001b[1;31mValueError\u001b[0m: too many values to unpack (expected 2)"
     ]
    }
   ],
   "source": [
    "classifier = DecisionTreeClassifier(min_samples_split=2, max_depth=10)\n",
    "classifier.fit(X_train,Y_train)\n",
    "classifier.print_tree()"
   ]
  },
  {
   "cell_type": "code",
   "execution_count": 17,
   "metadata": {},
   "outputs": [
    {
     "data": {
      "text/plain": [
       "0.6764227642276422"
      ]
     },
     "execution_count": 17,
     "metadata": {},
     "output_type": "execute_result"
    }
   ],
   "source": [
    "Y_pred = classifier.predict(X_test) \n",
    "accuracy_score(Y_test, Y_pred)"
   ]
  },
  {
   "cell_type": "code",
   "execution_count": 34,
   "metadata": {},
   "outputs": [],
   "source": [
    "# X\n",
    "# Y\n",
    "# Y_train\n",
    "# Y_test\n",
    "# X_train\n",
    "# X_test"
   ]
  },
  {
   "cell_type": "code",
   "execution_count": null,
   "metadata": {},
   "outputs": [],
   "source": []
  },
  {
   "cell_type": "code",
   "execution_count": null,
   "metadata": {},
   "outputs": [],
   "source": []
  },
  {
   "cell_type": "code",
   "execution_count": null,
   "metadata": {},
   "outputs": [],
   "source": []
  },
  {
   "cell_type": "code",
   "execution_count": null,
   "metadata": {},
   "outputs": [],
   "source": []
  }
 ],
 "metadata": {
  "kernelspec": {
   "display_name": "Python 3",
   "language": "python",
   "name": "python3"
  },
  "language_info": {
   "codemirror_mode": {
    "name": "ipython",
    "version": 3
   },
   "file_extension": ".py",
   "mimetype": "text/x-python",
   "name": "python",
   "nbconvert_exporter": "python",
   "pygments_lexer": "ipython3",
   "version": "3.8.10"
  },
  "vscode": {
   "interpreter": {
    "hash": "6a926afa313b26ae1264fdcf81c726a97e69f6ba2ba780f6aa901948710f8d6e"
   }
  }
 },
 "nbformat": 4,
 "nbformat_minor": 4
}
